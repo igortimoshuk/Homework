{
 "cells": [
  {
   "cell_type": "code",
   "execution_count": 8,
   "metadata": {},
   "outputs": [
    {
     "name": "stdout",
     "output_type": "stream",
     "text": [
      "Hellow World\n"
     ]
    }
   ],
   "source": [
    "print('Hellow World')"
   ]
  },
  {
   "cell_type": "code",
   "execution_count": 18,
   "metadata": {},
   "outputs": [
    {
     "name": "stdout",
     "output_type": "stream",
     "text": [
      "0.5 0.0\n",
      "0.51 0.0\n",
      "0.52 0.0\n",
      "0.53 0.0\n",
      "0.54 0.0\n",
      "0.55 0.0\n",
      "0.56 0.0\n",
      "0.5700000000000001 7.458599348585528e+64\n"
     ]
    }
   ],
   "source": [
    "import math\n",
    "\n",
    "def lagrange(xval, xk, yk):\n",
    "    \"\"\"Language interpolation polynimial.\n",
    "    xval is L(xval), xk and yk are list of observations\n",
    "    \"\"\"\n",
    "    return sum(yk[k] * lagrange_k(xval, xk, k) for k in range(len(xk)))\n",
    "\n",
    "def lagrange_k(xval, xk, k):\n",
    "    result = 1\n",
    "    for i in range(len(xk)):\n",
    "        if i != k:\n",
    "            result *= (xval - xk[i])\n",
    "            result /= (xk[k] - xk[i])\n",
    "    return result\n",
    "\n",
    "\n",
    "if __name__ == \"__main__\":\n",
    "    xk = []\n",
    "    yk = []\n",
    "    #import pdv pdv.set_trace()\n",
    "    \n",
    "    for i in range(600):\n",
    "        xk.append(i / 100)\n",
    "        yk.append(1 / (25 * (i / 100) ** 2 + 1))\n",
    "        \n",
    "    for i in range(8):\n",
    "        print((i / 100) + 0.5, lagrange((i / 100) + 0.5, xk, yk) - 1 / (25 * ((i / 100) + 0.5) ** 2 + 1))"
   ]
  },
  {
   "cell_type": "code",
   "execution_count": 19,
   "metadata": {},
   "outputs": [
    {
     "data": {
      "image/png": "[encoded data removed]",
      "text/plain": [
       "<matplotlib.figure.Figure at 0x2096d0e7208>"
      ]
     },
     "metadata": {},
     "output_type": "display_data"
    }
   ],
   "source": [
    "import matplotlib\n",
    "import matplotlib.pyplot as plt\n",
    "matplotlib.rcParams['axes.unicode_minus'] = False\n",
    "fig, ax = plt.subplots()\n",
    "ax.plot(xk, yk, 'o')\n",
    "ax.plot(xk, yk, 'r-', label = 'points')\n",
    "plt.show()"
   ]
  },
  {
   "cell_type": "code",
   "execution_count": null,
   "metadata": {
    "collapsed": true
   },
   "outputs": [],
   "source": []
  }
 ],
 "metadata": {
  "kernelspec": {
   "display_name": "Python 3",
   "language": "python",
   "name": "python3"
  },
  "language_info": {
   "codemirror_mode": {
    "name": "ipython",
    "version": 3
   },
   "file_extension": ".py",
   "mimetype": "text/x-python",
   "name": "python",
   "nbconvert_exporter": "python",
   "pygments_lexer": "ipython3",
   "version": "3.6.3"
  }
 },
 "nbformat": 4,
 "nbformat_minor": 2
}
