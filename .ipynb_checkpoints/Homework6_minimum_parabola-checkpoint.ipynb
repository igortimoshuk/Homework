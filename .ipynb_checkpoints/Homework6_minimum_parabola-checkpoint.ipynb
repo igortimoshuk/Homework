{
 "cells": [
  {
   "cell_type": "code",
   "execution_count": 13,
   "metadata": {},
   "outputs": [
    {
     "name": "stdout",
     "output_type": "stream",
     "text": [
      "0.2857142857142856\n",
      "[9, -9, 3, 0.2857142857142856, 0.2857142857142858]\n",
      "0.28571428571428525\n"
     ]
    }
   ],
   "source": [
    "import math\n",
    "import numpy\n",
    "import matplotlib\n",
    "import matplotlib.pyplot as plt\n",
    "\n",
    "def minimum_parabola(f, x1, x2, x3):\n",
    "    y1, y2, y3 = f(x1), f(x2), f(x3)\n",
    "    a = (y3 * (x1 - x2) + y1 * (x2 - x3) + y2 * (x3 - x1))\n",
    "    b = (y2 - y1) * (x2 - x3) * (x3 - x1) + y3 * (x2 - x1) ** 2 - y1 * (x2 - x3) * (x2 - x1) - y2 * (x3 - x1) * (x2 - x1)\n",
    "    return b / 2 / a * (-1) + x1\n",
    "\n",
    "def f(x):\n",
    "    return -7 * x ** 2 + 4 * x + 89\n",
    "\n",
    "def iteration(f, iterations, eps):\n",
    "    if abs(iterations[-2] - iterations[-1]) >= eps:\n",
    "        result = minimum_parabola(f, iterations[-1], iterations[-2], iterations[-3])\n",
    "        iterations.append(result)\n",
    "        return iteration(f, iterations, eps)\n",
    "    else:\n",
    "        return iterations\n",
    "\n",
    "def minimum(f, a, b, eps):\n",
    "    return iteration(f, [a, b, (a + b) / 2], eps)[-1]\n",
    "\n",
    "print(minimum_parabola(f, 7, 4, 9))\n",
    "print(iteration(f, [9, -9, 3], 10 ** (-8)))\n",
    "print(minimum(f, -5, 5, 10 ** (-8)))"
   ]
  },
  {
   "cell_type": "code",
   "execution_count": 19,
   "metadata": {},
   "outputs": [
    {
     "data": {
      "image/png": "[encoded data removed]",
      "text/plain": [
       "<matplotlib.figure.Figure at 0x1e1093c5748>"
      ]
     },
     "metadata": {},
     "output_type": "display_data"
    }
   ],
   "source": [
    "def f1(x):\n",
    "    return math.sin(20 * x) * math.cos(3 * x)\n",
    "\n",
    "x = numpy.arange(5.5, 6.5, 0.001)\n",
    "plt.plot(x, [f1(el) for el in x], ',')\n",
    "plt.show()"
   ]
  },
  {
   "cell_type": "code",
   "execution_count": 23,
   "metadata": {},
   "outputs": [
    {
     "name": "stdout",
     "output_type": "stream",
     "text": [
      "5.90594365931337\n"
     ]
    },
    {
     "data": {
      "image/png": "[encoded data removed]",
      "text/plain": [
       "<matplotlib.figure.Figure at 0x1e10923d048>"
      ]
     },
     "metadata": {},
     "output_type": "display_data"
    }
   ],
   "source": [
    "print(minimum(f1, 5.8, 6.0, 10 ** (-8)))\n",
    "minimum_1 = minimum(f1, 5.8, 6.0, 10 ** (-8))\n",
    "x = numpy.arange(5.5, 6.5, 0.001)\n",
    "plt.plot(x, [f1(el) for el in x], ',')\n",
    "plt.plot(x, [f1(minimum_1) for el in x], ',')\n",
    "plt.show()"
   ]
  },
  {
   "cell_type": "code",
   "execution_count": null,
   "metadata": {
    "collapsed": true
   },
   "outputs": [],
   "source": []
  }
 ],
 "metadata": {
  "kernelspec": {
   "display_name": "Python 3",
   "language": "python",
   "name": "python3"
  },
  "language_info": {
   "codemirror_mode": {
    "name": "ipython",
    "version": 3
   },
   "file_extension": ".py",
   "mimetype": "text/x-python",
   "name": "python",
   "nbconvert_exporter": "python",
   "pygments_lexer": "ipython3",
   "version": "3.6.3"
  }
 },
 "nbformat": 4,
 "nbformat_minor": 2
}
